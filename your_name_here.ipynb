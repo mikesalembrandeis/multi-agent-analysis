{
 "cells": [
  {
   "cell_type": "markdown",
   "id": "august-translation",
   "metadata": {},
   "source": [
    "# Assignment 1\n",
    "----\n",
    "\n",
    "Name : `<Your name here>`\n",
    "    \n",
    "email :  `<Your email here> `"
   ]
  },
  {
   "cell_type": "markdown",
   "id": "cooked-chassis",
   "metadata": {},
   "source": [
    "# Instructions\n",
    "----\n",
    "\n",
    "The purpose of this assignment is for students to utilize, pandas, numpy, matplotlib, and scikit-learn to perform data analysis on a multi-agent swarm dataset.\n",
    "\n",
    "You are **not** allowed to rename any functions or modify the number of input parameters. **Failure to follow instructions will result in a 0 for the question.**\n",
    "\n",
    "### Any scratch work (testing, debugging, etc.) can be done at the bottom under the `Scratch` section or in other files. "
   ]
  },
  {
   "cell_type": "markdown",
   "id": "overall-punishment",
   "metadata": {},
   "source": [
    "# Rubric\n",
    "----\n",
    "\n",
    "Every step is worth 1 point. If the solution produced is correct, the student will receive 1 point. If the solution is incorrect, the student will receive 0\n",
    "\n",
    "### Please keep your code and the expeccted output next to each other. If the two cells are **not** adjacent, you will receive a 0 for the question being asked. "
   ]
  },
  {
   "cell_type": "code",
   "execution_count": 9,
   "id": "demographic-virtue",
   "metadata": {},
   "outputs": [],
   "source": [
    "# Note: You do NOT need to add any packages. Everything you need is already installed in this notebook. Modifying these imports will result in a 0. \n",
    "import numpy as np\n",
    "import pandas as pd"
   ]
  },
  {
   "cell_type": "code",
   "execution_count": 2,
   "id": "qualified-basis",
   "metadata": {},
   "outputs": [],
   "source": [
    "# Make sure to run this cell. The ! runs a terminal command and grabst he dataset we are using from UCI\n",
    "!wget https://archive.ics.uci.edu/ml/machine-learning-databases/00524/Swarm%20Behavior%20Data.zip"
   ]
  },
  {
   "cell_type": "code",
   "execution_count": 3,
   "id": "liquid-missile",
   "metadata": {},
   "outputs": [],
   "source": [
    "# Make sure to run this cell. This unzips the dataset into assignment_2 directory (or wherever you started this notebook from)\n",
    "!unzip Swarm\\ Behavior\\ Data.zip   "
   ]
  },
  {
   "cell_type": "code",
   "execution_count": 4,
   "id": "jewish-arkansas",
   "metadata": {},
   "outputs": [],
   "source": [
    "# rename directory (this is done since there are spaces in the name)\n",
    "!mv Swarm\\ Behavior\\ Data swarm_behavior_data"
   ]
  },
  {
   "cell_type": "code",
   "execution_count": 21,
   "id": "affecting-channel",
   "metadata": {},
   "outputs": [],
   "source": [
    "# TODO Print the files in the swarm_behavior_data directory as a list (hint: module is provided in cell)\n",
    "import os \n"
   ]
  },
  {
   "cell_type": "markdown",
   "id": "offshore-price",
   "metadata": {},
   "source": [
    "expected output: `['Grouped.csv', 'Flocking.csv', 'Aligned.csv']`"
   ]
  },
  {
   "cell_type": "code",
   "execution_count": 6,
   "id": "stupid-acrylic",
   "metadata": {},
   "outputs": [],
   "source": [
    "# TODO Load the Aligned.csv file into a dataframe and print the rows, columns as a tuple\n"
   ]
  },
  {
   "cell_type": "markdown",
   "id": "relative-emission",
   "metadata": {},
   "source": [
    "expected output: `(24016, 2401)`"
   ]
  },
  {
   "cell_type": "code",
   "execution_count": 22,
   "id": "affecting-finance",
   "metadata": {},
   "outputs": [],
   "source": [
    "# TODO Print the first two rows of the dataframe in the following format. \n"
   ]
  },
  {
   "cell_type": "markdown",
   "id": "narrative-original",
   "metadata": {},
   "source": [
    "expected output:\n",
    "```\n",
    "x1\ty1\txVel1\tyVel1\txA1\tyA1\txS1\tyS1\txC1\tyC1\t...\tyVel200\txA200\tyA200\txS200\tyS200\txC200\tyC200\tnAC200\tnS200\tClass\n",
    "----------------------------------------------------------------------------------------------------------------------------------------------------------------------\n",
    "0\t-1414.14\t-535.22\t-17.88\t-7.23\t0.0\t0.0\t0.0\t0.0\t0.0\t0.0\t...\t-16.85\t0.0\t0.0\t0.0\t0.0\t0.0\t0.0\t29\t0\t0\n",
    "1\t-1412.93\t597.54\t-13.55\t-5.48\t0.0\t0.0\t0.0\t0.0\t0.0\t0.0\t...\t-12.09\t0.0\t0.0\t0.0\t0.0\t0.0\t0.0\t44\t0\t0```"
   ]
  },
  {
   "cell_type": "code",
   "execution_count": 23,
   "id": "decent-three",
   "metadata": {},
   "outputs": [],
   "source": [
    "# TODO print the column names and the column types from the dataframe\n"
   ]
  },
  {
   "cell_type": "markdown",
   "id": "valid-means",
   "metadata": {},
   "source": [
    "expected output:\n",
    "\n",
    "```\n",
    "x1        float64\n",
    "y1        float64\n",
    "xVel1     float64\n",
    "yVel1     float64\n",
    "xA1       float64\n",
    "           ...   \n",
    "xC200     float64\n",
    "yC200     float64\n",
    "nAC200      int64\n",
    "nS200       int64\n",
    "Class       int64\n",
    "Length: 2401, dtype: object```"
   ]
  },
  {
   "cell_type": "code",
   "execution_count": 25,
   "id": "swiss-hayes",
   "metadata": {},
   "outputs": [],
   "source": [
    "# TODO check if dataframe has any non numeric columns and return the column names as a list\n"
   ]
  },
  {
   "cell_type": "markdown",
   "id": "shaped-bhutan",
   "metadata": {},
   "source": [
    "expected output : `[]`"
   ]
  },
  {
   "cell_type": "code",
   "execution_count": 26,
   "id": "extended-subscription",
   "metadata": {},
   "outputs": [],
   "source": [
    "# TODO Jupyter / Pandas by default limits the number of rows and columns shown. Modify the setting to show all COLUMNS on output, but do NOT modify the row limits.\n"
   ]
  },
  {
   "cell_type": "markdown",
   "id": "frequent-indian",
   "metadata": {},
   "source": [
    "No output expected"
   ]
  },
  {
   "cell_type": "code",
   "execution_count": 4,
   "id": "increased-kenya",
   "metadata": {},
   "outputs": [],
   "source": [
    "# TODO Print a table from the dataframe that provides the following information \n"
   ]
  },
  {
   "cell_type": "markdown",
   "id": "rational-adult",
   "metadata": {},
   "source": [
    "**NOTE** This is just two columns, you need to produce all of them. \n",
    "\n",
    "```\t\n",
    "        x1\t         y1\n",
    "-----------------------------------\n",
    "count\t24016.000000\t24016.000000\n",
    "mean\t108.310513\t-73.077114\n",
    "std\t842.175333\t572.552115\n",
    "min\t-1414.140000\t-1012.180000\n",
    "25%\t-539.662500\t-609.352500\n",
    "50%\t156.085000\t-156.685000\n",
    "75%\t898.112500\t424.445000\n",
    "max\t1406.080000\t1015.800000\n",
    "```"
   ]
  },
  {
   "cell_type": "code",
   "execution_count": 6,
   "id": "occupied-livestock",
   "metadata": {},
   "outputs": [],
   "source": [
    "# TODO Get min / max values for X1 and print them as a tuple\n"
   ]
  },
  {
   "cell_type": "markdown",
   "id": "silent-papua",
   "metadata": {},
   "source": [
    "expected output: `(-1414.14, 1406.08)`"
   ]
  },
  {
   "cell_type": "code",
   "execution_count": 2,
   "id": "processed-document",
   "metadata": {},
   "outputs": [],
   "source": [
    "# TODO create box-whisker plot for x1 variable\n"
   ]
  },
  {
   "cell_type": "markdown",
   "id": "macro-private",
   "metadata": {},
   "source": [
    "expected output: picture included in repo"
   ]
  },
  {
   "cell_type": "markdown",
   "id": "vocational-russia",
   "metadata": {},
   "source": []
  },
  {
   "cell_type": "code",
   "execution_count": 3,
   "id": "square-blink",
   "metadata": {},
   "outputs": [],
   "source": [
    "# TODO get the 50th record (recall indices start at 0)\n"
   ]
  },
  {
   "cell_type": "markdown",
   "id": "hidden-decimal",
   "metadata": {},
   "source": [
    "expected output:\n",
    "\n",
    "```\n",
    "x1       -1396.76\n",
    "y1        -350.66\n",
    "xVel1       -8.25\n",
    "yVel1        0.17\n",
    "xA1         -0.56\n",
    "           ...   \n",
    "xC200        0.16\n",
    "yC200       -0.28\n",
    "nAC200      70.00\n",
    "nS200        0.00\n",
    "Class        1.00\n",
    "Name: 49, Length: 2401, dtype: float64\n",
    "```"
   ]
  },
  {
   "cell_type": "code",
   "execution_count": 16,
   "id": "scenic-discovery",
   "metadata": {},
   "outputs": [],
   "source": [
    "# TODO there is one column that starts with an uppercase letter. Change this to lowercase and rename the column \"target\"\n"
   ]
  },
  {
   "cell_type": "markdown",
   "id": "desperate-korean",
   "metadata": {},
   "source": [
    "no expected output"
   ]
  },
  {
   "cell_type": "code",
   "execution_count": 5,
   "id": "stylish-solution",
   "metadata": {},
   "outputs": [],
   "source": [
    "# TODO print the first two records of the pandas dataframe\n"
   ]
  },
  {
   "cell_type": "markdown",
   "id": "temporal-romantic",
   "metadata": {},
   "source": [
    "expected output should look similar (but not identical):\n",
    "\n",
    "```\n",
    "x1\ty1\txVel1\tyVel1\txA1\tyA1\txS1\tyS1\txC1\tyC1\t...\tyVel200\txA200\tyA200\txS200\tyS200\txC200\tyC200\tnAC200\tnS200\tClass\n",
    "----------------------------------------------------------------------------------------------------------------------------------------------------------------------\n",
    "0\t-1414.14\t-535.22\t-17.88\t-7.23\t0.0\t0.0\t0.0\t0.0\t0.0\t0.0\t...\t-16.85\t0.0\t0.0\t0.0\t0.0\t0.0\t0.0\t29\t0\t0\n",
    "1\t-1412.93\t597.54\t-13.55\t-5.48\t0.0\t0.0\t0.0\t0.0\t0.0\t0.0\t...\t-12.09\t0.0\t0.0\t0.0\t0.0\t0.0\t0.0\t44\t0\t0```\n",
    "```"
   ]
  },
  {
   "cell_type": "code",
   "execution_count": 8,
   "id": "flexible-sense",
   "metadata": {},
   "outputs": [],
   "source": [
    "# TODO The variable that was renamed \"target\" is a common phrase used in machine learning. Target usually refers to the item that we are trying to predict. In this case, we want to predict distinct, discrete numbers or \"classes\". How many classes are there?\n"
   ]
  },
  {
   "cell_type": "markdown",
   "id": "golden-minister",
   "metadata": {},
   "source": [
    "expected output: `2`"
   ]
  },
  {
   "cell_type": "code",
   "execution_count": 11,
   "id": "fifteen-static",
   "metadata": {},
   "outputs": [],
   "source": [
    "# TODO get the number of counts for each target value \n"
   ]
  },
  {
   "cell_type": "markdown",
   "id": "satisfactory-python",
   "metadata": {},
   "source": [
    "expected output: \n",
    "\n",
    "```\n",
    "0    16511\n",
    "1     7505\n",
    "Name: target, dtype: int64\n",
    "```"
   ]
  },
  {
   "cell_type": "code",
   "execution_count": 12,
   "id": "falling-organization",
   "metadata": {},
   "outputs": [],
   "source": [
    "# TODO create a bar chart / histogram showing \"target\" counts\n"
   ]
  },
  {
   "cell_type": "markdown",
   "id": "accessible-rapid",
   "metadata": {},
   "source": [
    "expected output: image included in repo"
   ]
  },
  {
   "cell_type": "code",
   "execution_count": 13,
   "id": "featured-philadelphia",
   "metadata": {},
   "outputs": [],
   "source": [
    "# TODO Look at how many x<number> y<number> pairs there are. Get **only** the columns that match this criteria. You do **not** need to print the values. Just the columns. Store these in a list. How many are there? \n"
   ]
  },
  {
   "cell_type": "markdown",
   "id": "treated-father",
   "metadata": {},
   "source": [
    "expected output: 400"
   ]
  },
  {
   "cell_type": "code",
   "execution_count": 14,
   "id": "objective-ontario",
   "metadata": {},
   "outputs": [],
   "source": [
    "# TODO group only those columns from the dataframe and grap only the first row\n"
   ]
  },
  {
   "cell_type": "markdown",
   "id": "honey-barbados",
   "metadata": {},
   "source": [
    "expected_output: \n",
    "\n",
    "```\n",
    "\n",
    "x1\ty1\tx2\ty2\tx3\ty3\tx4\ty4\tx5\ty5\t...\tx196\ty196\tx197\ty197\tx198\ty198\tx199\ty199\tx200\ty200\n",
    "--------------------------------------------------------------------------------------------------------------------------------------------------------------------------------------------\n",
    "0\t-1414.14\t-535.22\t-589.94\t-109.41\t830.02\t812.11\t-1027.76\t654.1\t-256.45\t-841.21\t...\t-978.62\t505.22\t-741.23\t320.04\t1339.3\t-473.61\t687.57\t-20.78\t-971.96\t-810.85\n",
    "```"
   ]
  },
  {
   "cell_type": "code",
   "execution_count": 18,
   "id": "linear-israeli",
   "metadata": {},
   "outputs": [],
   "source": [
    "# TODO the dataframe (table) is still quite long. Instead of having each x,y have its own column, lets put every x and y in two columns. Make sure to keep the x<number>, y<number> pairs aligned on their respective row\n",
    "# HINT: you may want to store each pair into a dictionary with the keys names x, y and put these dictionaries into a list \n",
    "# e.g. result_list[{'x':x1_val}, 'y':y1_val}, ...]\n",
    "# from there you can call pd.DataFrame(result_list) to turn it into a dataframe\n"
   ]
  },
  {
   "cell_type": "markdown",
   "id": "developmental-charity",
   "metadata": {},
   "source": [
    "expected output: \n",
    "\n",
    "```\n",
    "x\ty\n",
    "-------------------------\n",
    "0\t-1414.14\t-535.22\n",
    "1\t-589.94\t-109.41\n",
    "2\t830.02\t812.11\n",
    "3\t-1027.76\t654.10\n",
    "4\t-256.45\t-841.21\n",
    "...\t...\t...\n",
    "195\t-978.62\t505.22\n",
    "196\t-741.23\t320.04\n",
    "197\t1339.30\t-473.61\n",
    "198\t687.57\t-20.78\n",
    "199\t-971.96\t-810.85\n",
    "200 rows × 2 columns\n",
    "```\n"
   ]
  },
  {
   "cell_type": "code",
   "execution_count": 19,
   "id": "cosmetic-error",
   "metadata": {},
   "outputs": [],
   "source": [
    "# TODO Create a scatter plot of this data\n"
   ]
  },
  {
   "cell_type": "markdown",
   "id": "egyptian-hello",
   "metadata": {},
   "source": [
    "expected output: image in repo"
   ]
  },
  {
   "cell_type": "code",
   "execution_count": null,
   "id": "administrative-probe",
   "metadata": {},
   "outputs": [],
   "source": [
    "# TODO grab the first target where targets value is 1 and lets do the same thing\n"
   ]
  },
  {
   "cell_type": "markdown",
   "id": "first-branch",
   "metadata": {},
   "source": [
    "expected output: image in repo data should appear aligned"
   ]
  },
  {
   "cell_type": "code",
   "execution_count": 20,
   "id": "dominican-investigator",
   "metadata": {},
   "outputs": [],
   "source": [
    "# TODO check to see if any values are null\n"
   ]
  },
  {
   "cell_type": "code",
   "execution_count": null,
   "id": "durable-charles",
   "metadata": {},
   "outputs": [],
   "source": [
    "expected output: False"
   ]
  },
  {
   "cell_type": "code",
   "execution_count": 30,
   "id": "everyday-vietnam",
   "metadata": {},
   "outputs": [],
   "source": [
    "# TODO using scikit-learn create a training set and a testing set with your dataframe. Make sure to set the random sate to 50. \n",
    "# Create a test_size of 20 percent. \n",
    "from sklearn.model_selection import train_test_split\n"
   ]
  },
  {
   "cell_type": "markdown",
   "id": "dangerous-color",
   "metadata": {},
   "source": [
    "no output shown"
   ]
  },
  {
   "cell_type": "code",
   "execution_count": 31,
   "id": "placed-sunrise",
   "metadata": {},
   "outputs": [],
   "source": [
    "# TODO Create and train a random forest classifier model and get an accuracy better than 94 on your test set. Set random state = 15\n",
    "from sklearn.ensemble import RandomForestClassifier\n",
    "from sklearn.metrics import plot_confusion_matrix"
   ]
  },
  {
   "cell_type": "code",
   "execution_count": 32,
   "id": "comprehensive-clause",
   "metadata": {},
   "outputs": [
    {
     "data": {
      "text/plain": [
       "RandomForestClassifier(max_depth=3, n_jobs=-1, random_state=15)"
      ]
     },
     "execution_count": 32,
     "metadata": {},
     "output_type": "execute_result"
    }
   ],
   "source": []
  },
  {
   "cell_type": "code",
   "execution_count": null,
   "id": "exciting-ethics",
   "metadata": {},
   "outputs": [],
   "source": [
    "# TODO Print a classification report"
   ]
  },
  {
   "cell_type": "markdown",
   "id": "personalized-poison",
   "metadata": {},
   "source": [
    "expected output:\n",
    "\n",
    "```\n",
    "              precision    recall  f1-score   support\n",
    "\n",
    "           0       1.00      1.00      1.00      3278\n",
    "           1       1.00      1.00      1.00      1526\n",
    "\n",
    "    accuracy                           1.00      4804\n",
    "   macro avg       1.00      1.00      1.00      4804\n",
    "weighted avg       1.00      1.00      1.00      4804\n",
    "```"
   ]
  },
  {
   "cell_type": "code",
   "execution_count": null,
   "id": "governing-breast",
   "metadata": {},
   "outputs": [],
   "source": [
    "# TODO creaete a binary confusion matrix"
   ]
  },
  {
   "cell_type": "markdown",
   "id": "particular-distinction",
   "metadata": {},
   "source": [
    "expected output: similar image in repo"
   ]
  },
  {
   "cell_type": "code",
   "execution_count": 39,
   "id": "exact-sherman",
   "metadata": {},
   "outputs": [],
   "source": [
    "# TODO Load the all csv files from the swarm_behavior_data folder into three different data frames and print their size \n"
   ]
  },
  {
   "cell_type": "markdown",
   "id": "unexpected-communication",
   "metadata": {},
   "source": [
    "expected output:\n",
    "\n",
    "```\n",
    "(24016, 2401)\n",
    "(24016, 2401)\n",
    "(24016, 2401)\n",
    "```"
   ]
  },
  {
   "cell_type": "code",
   "execution_count": 40,
   "id": "eastern-travel",
   "metadata": {},
   "outputs": [],
   "source": [
    "# TODO shape changed Issue is with additional space after \"Class\" column in flocking. Fix and retry\n"
   ]
  },
  {
   "cell_type": "markdown",
   "id": "yellow-homework",
   "metadata": {},
   "source": [
    "no output expected"
   ]
  },
  {
   "cell_type": "code",
   "execution_count": 42,
   "id": "handed-economics",
   "metadata": {},
   "outputs": [],
   "source": [
    "# TODO we did a binary machine learning problem above. Now that's lets do a multiclass. In order to do this we need to change the class values. \n",
    "# We will do this as follows:\n",
    "# No changes for the aligned file\n",
    "# When Class = 1 in Flocking, change the value to 2 and keep 0 the same\n",
    "# When Class = 1 in Group, change the value to 3 and keep 0 the same\n"
   ]
  },
  {
   "cell_type": "markdown",
   "id": "floating-friend",
   "metadata": {},
   "source": [
    "no output expected"
   ]
  },
  {
   "cell_type": "code",
   "execution_count": 43,
   "id": "strong-median",
   "metadata": {},
   "outputs": [],
   "source": [
    "# TODO concat all three dataframes together to make a new dataframe called df_total and print the shape as a tuple\n"
   ]
  },
  {
   "cell_type": "markdown",
   "id": "rubber-capitol",
   "metadata": {},
   "source": [
    "expected output: `(72048, 2401)`"
   ]
  },
  {
   "cell_type": "code",
   "execution_count": 45,
   "id": "adjustable-bradford",
   "metadata": {},
   "outputs": [],
   "source": [
    "# TODO rename Class to target in the new dataframe\n"
   ]
  },
  {
   "cell_type": "markdown",
   "id": "miniature-register",
   "metadata": {},
   "source": [
    "no expected output"
   ]
  },
  {
   "cell_type": "code",
   "execution_count": 24,
   "id": "attempted-kruger",
   "metadata": {},
   "outputs": [],
   "source": [
    "# TODO using scikit-learn create a training set and a testing set with your dataframe. Make sure to set the random sate to 50. \n",
    "# Create a test_size of 20 percent. You must have an accuracy higher than 94% set the random state in the random forest to 15\n"
   ]
  },
  {
   "cell_type": "markdown",
   "id": "medieval-guidance",
   "metadata": {},
   "source": [
    "expected output (similar):\n",
    "\n",
    "```\n",
    "              precision    recall  f1-score   support\n",
    "\n",
    "           0       0.94      1.00      0.97      8723\n",
    "           1       1.00      0.63      0.77      1497\n",
    "           2       1.00      1.00      1.00      2397\n",
    "           3       1.00      1.00      1.00      1793\n",
    "\n",
    "    accuracy                           0.96     14410\n",
    "   macro avg       0.99      0.91      0.94     14410\n",
    "weighted avg       0.96      0.96      0.96     14410\n",
    "```"
   ]
  },
  {
   "cell_type": "code",
   "execution_count": 25,
   "id": "regulation-client",
   "metadata": {},
   "outputs": [],
   "source": [
    "# TODO print the multiclass confusion matrix"
   ]
  },
  {
   "cell_type": "markdown",
   "id": "practical-assembly",
   "metadata": {},
   "source": [
    "expected result: image in repo contains multiclass confusion"
   ]
  },
  {
   "cell_type": "code",
   "execution_count": 26,
   "id": "controversial-trigger",
   "metadata": {
    "tags": []
   },
   "outputs": [],
   "source": [
    "# Bonus print out the features and their importance for your random forest model\n"
   ]
  },
  {
   "cell_type": "markdown",
   "id": "controlling-plumbing",
   "metadata": {},
   "source": [
    "# Scratch\n",
    "-----\n",
    "\n",
    "Scratch work under here is permitted"
   ]
  },
  {
   "cell_type": "code",
   "execution_count": null,
   "id": "bibliographic-circular",
   "metadata": {},
   "outputs": [],
   "source": []
  }
 ],
 "metadata": {
  "kernelspec": {
   "display_name": "Python 3",
   "language": "python",
   "name": "python3"
  },
  "language_info": {
   "codemirror_mode": {
    "name": "ipython",
    "version": 3
   },
   "file_extension": ".py",
   "mimetype": "text/x-python",
   "name": "python",
   "nbconvert_exporter": "python",
   "pygments_lexer": "ipython3",
   "version": "3.9.1"
  }
 },
 "nbformat": 4,
 "nbformat_minor": 5
}
